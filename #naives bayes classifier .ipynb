{
 "cells": [
  {
   "cell_type": "code",
   "execution_count": 1,
   "metadata": {},
   "outputs": [],
   "source": [
    "#bayes theorem \n",
    "#p(a/b)=p(a intersection b)/p(b)"
   ]
  },
  {
   "cell_type": "code",
   "execution_count": 2,
   "metadata": {},
   "outputs": [],
   "source": [
    "#based on bayes theorem \n",
    "#formula used \n",
    "#p(a/b)=(p(b/a)*p(a))/p(b)\n",
    "#it is a classification algorithm "
   ]
  },
  {
   "cell_type": "code",
   "execution_count": 3,
   "metadata": {},
   "outputs": [],
   "source": [
    "#example \n",
    "#tennis play or not \n",
    "#categories given determine whether we will play or not \n",
    "#based on outlook and temperature\n",
    "#sippose example today(sunny,hot)-sunny is oulook and hot is temperature \n",
    "#we will find p(yes/today)\n",
    "#and we will also find p(no/today)\n",
    "#now we will compare the both probabilitie \n",
    "#we will classify the day as yea or no based on the probability values "
   ]
  },
  {
   "cell_type": "code",
   "execution_count": null,
   "metadata": {},
   "outputs": [],
   "source": [
    "#we can use naive bayes for NLP also "
   ]
  }
 ],
 "metadata": {
  "kernelspec": {
   "display_name": "Python 3",
   "language": "python",
   "name": "python3"
  },
  "language_info": {
   "codemirror_mode": {
    "name": "ipython",
    "version": 3
   },
   "file_extension": ".py",
   "mimetype": "text/x-python",
   "name": "python",
   "nbconvert_exporter": "python",
   "pygments_lexer": "ipython3",
   "version": "3.7.6"
  }
 },
 "nbformat": 4,
 "nbformat_minor": 4
}
