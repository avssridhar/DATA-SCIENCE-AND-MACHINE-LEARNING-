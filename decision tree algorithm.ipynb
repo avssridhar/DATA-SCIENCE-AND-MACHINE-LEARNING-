{
 "cells": [
  {
   "cell_type": "code",
   "execution_count": 1,
   "metadata": {},
   "outputs": [],
   "source": [
    "#decision tree\n",
    "#supervised learning \n",
    "#check for decision tree on google"
   ]
  },
  {
   "cell_type": "code",
   "execution_count": 3,
   "metadata": {},
   "outputs": [],
   "source": [
    "#entropy\n",
    "#we consider trees based on  attributes\n",
    "#id3 algorithm is used to construct decision tree\n",
    "#first step is to decide which feature is best to construct the tree\n",
    "#to measure purity of split we check entropy"
   ]
  },
  {
   "cell_type": "code",
   "execution_count": 4,
   "metadata": {},
   "outputs": [],
   "source": [
    "#in each and every node we have to heck the entropy\n",
    "#entropy=p+log(p+)-p-log(p-) here of log is 2\n",
    "#entropy=H(s)\n",
    "#entropy value ranges between zero to one \n",
    "#if entropy is 1 it is impure\n"
   ]
  },
  {
   "cell_type": "code",
   "execution_count": 5,
   "metadata": {},
   "outputs": [],
   "source": [
    "#information gain combines all the entropies \n",
    "#we split the decision tree till we get complete purity\n",
    "#information gain is avergae of all the entropy based on specific split\n",
    "#we can decide which split is better \n",
    "#gain(S,A)=H(s)=signma(vbelongs)(mod(sv)/mod(s))*H(Sv)\n",
    "#highest information gain that structure will be used \n",
    "#more information gain is desired"
   ]
  },
  {
   "cell_type": "code",
   "execution_count": 6,
   "metadata": {},
   "outputs": [],
   "source": [
    "#gini impurity \n",
    "#GI=1-sigma(1 to n)(p)^2\n",
    "#gini impurity vs entropy best interview question \n",
    "#check now dint understand"
   ]
  },
  {
   "cell_type": "code",
   "execution_count": 7,
   "metadata": {},
   "outputs": [],
   "source": [
    "#decision tree split for numerical variables\n",
    "#1.sort all the values \n",
    "#2.check threshhold va,ues and split\n",
    "#3.for every split entropy and info gain calculated  best\n",
    "#will be seleceted \n",
    "#disadvantage is more time complexity"
   ]
  },
  {
   "cell_type": "code",
   "execution_count": null,
   "metadata": {},
   "outputs": [],
   "source": []
  },
  {
   "cell_type": "code",
   "execution_count": null,
   "metadata": {},
   "outputs": [],
   "source": []
  },
  {
   "cell_type": "code",
   "execution_count": null,
   "metadata": {},
   "outputs": [],
   "source": []
  },
  {
   "cell_type": "code",
   "execution_count": null,
   "metadata": {},
   "outputs": [],
   "source": []
  },
  {
   "cell_type": "code",
   "execution_count": null,
   "metadata": {},
   "outputs": [],
   "source": []
  }
 ],
 "metadata": {
  "kernelspec": {
   "display_name": "Python 3",
   "language": "python",
   "name": "python3"
  },
  "language_info": {
   "codemirror_mode": {
    "name": "ipython",
    "version": 3
   },
   "file_extension": ".py",
   "mimetype": "text/x-python",
   "name": "python",
   "nbconvert_exporter": "python",
   "pygments_lexer": "ipython3",
   "version": "3.7.6"
  }
 },
 "nbformat": 4,
 "nbformat_minor": 4
}
