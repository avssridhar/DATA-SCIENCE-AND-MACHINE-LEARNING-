{
 "cells": [
  {
   "cell_type": "code",
   "execution_count": 1,
   "metadata": {},
   "outputs": [],
   "source": [
    "#it is a bagging technique\n",
    "#here the diffeerent models are decision trees\n",
    "#we send some part of the dataset to the models \n",
    "#in sampling sonme records may get repeated \n",
    "#same as bagging majority will be taken into account \n",
    "#base laeering method is decison tree"
   ]
  },
  {
   "cell_type": "code",
   "execution_count": 2,
   "metadata": {},
   "outputs": [],
   "source": [
    "# decsion tree creating \n",
    "#to its complete depth \n",
    "#gets trained properly for test data set \n",
    "#hence low bias and high variance\n",
    "#overfitting occurs \n",
    "#but high varaicne will get converted into low variance \n"
   ]
  },
  {
   "cell_type": "code",
   "execution_count": 3,
   "metadata": {},
   "outputs": [],
   "source": [
    "#change in dataset wont impact the output"
   ]
  },
  {
   "cell_type": "code",
   "execution_count": null,
   "metadata": {},
   "outputs": [],
   "source": []
  }
 ],
 "metadata": {
  "kernelspec": {
   "display_name": "Python 3",
   "language": "python",
   "name": "python3"
  },
  "language_info": {
   "codemirror_mode": {
    "name": "ipython",
    "version": 3
   },
   "file_extension": ".py",
   "mimetype": "text/x-python",
   "name": "python",
   "nbconvert_exporter": "python",
   "pygments_lexer": "ipython3",
   "version": "3.7.6"
  }
 },
 "nbformat": 4,
 "nbformat_minor": 4
}
