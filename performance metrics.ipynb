{
 "cells": [
  {
   "cell_type": "code",
   "execution_count": 1,
   "metadata": {},
   "outputs": [],
   "source": [
    "#perfromanance metrics very important \n",
    "#problem statement:classification \n",
    "#solving twotypes:1.class labels 2.problem\n",
    "#for balance dataset-we use accuracy as metric\n",
    "#for imbalance dataset-we use other\n"
   ]
  },
  {
   "cell_type": "code",
   "execution_count": 2,
   "metadata": {},
   "outputs": [],
   "source": [
    "#some performance metrics\n",
    "#confusionmatrix,FPR,FNR,Recall,Precisiom,Acuuracy,\n",
    "#Fbeta,coheanKappa,ROCcurve,AUCscore,PRcurve"
   ]
  },
  {
   "cell_type": "code",
   "execution_count": 3,
   "metadata": {},
   "outputs": [],
   "source": [
    "#confusion matrix\n",
    "#for binary classification\n",
    "#there will be four cells in the matrix\n",
    "#in this false positive rare and false negative rate can be found out \n",
    "#frp is type 1 and fnr is type 2 error\n",
    "#here accuracy=(TP+TN)/TP+FP+FN+TN\n",
    "#IF dataset is balance this is the best way "
   ]
  },
  {
   "cell_type": "code",
   "execution_count": 4,
   "metadata": {},
   "outputs": [],
   "source": [
    "#unbalanced dataset will contain more values of one particular varibale "
   ]
  },
  {
   "cell_type": "code",
   "execution_count": 6,
   "metadata": {},
   "outputs": [],
   "source": [
    "#if dataset is not balanced \n",
    "#we cannot use above metrics like accuracy \n",
    "#we go with fbeta,recall,precision"
   ]
  },
  {
   "cell_type": "code",
   "execution_count": 12,
   "metadata": {},
   "outputs": [],
   "source": [
    "#recall and precision\n",
    "#here also make confusion matrix\n",
    "#recall=TP/(TP+FN)\n",
    "#precision=TP/(TP+FP) \n",
    "#preciso also called positive prediction value \n",
    "#in spam detection we should use precision\n",
    "#because we need to reduce false positive mail \n",
    "#in predivting cancer we should avoid false negatives"
   ]
  },
  {
   "cell_type": "code",
   "execution_count": null,
   "metadata": {},
   "outputs": [],
   "source": [
    "#false positive important -use precision\n",
    "#false negative importatn -use recall"
   ]
  },
  {
   "cell_type": "code",
   "execution_count": 13,
   "metadata": {},
   "outputs": [],
   "source": [
    "#if you want to consider both fp and fn we use fbeta score \n",
    "#fbet(1+beta^2)(precision*recall)/beta^2*(precision+recall)\n",
    "#we try to select the value of beta\n",
    "#if we replace beta by 2 it will become harmonic mean"
   ]
  },
  {
   "cell_type": "code",
   "execution_count": 14,
   "metadata": {},
   "outputs": [],
   "source": [
    "#ROC AND AUC CURVE\n",
    "#calculate all TPR,FPR,TPR,FPR \n",
    "#ROC CURVE AND AUC\n",
    "#BY  VARYING THRESHHOLD VALUE PLOT BETWEEN TRP AND FPR\n",
    "#JOIN ALL THE DOTS TOGETHER \n",
    "#THE AREA UNDERTHE CURVE IS AUC AREA\n",
    "#DRAW A LINE FROM ORIGIN TO THE LAST POINT THE GRAPH SHOULD BE ABOVE THE PARTICLUAL RLINE"
   ]
  },
  {
   "cell_type": "code",
   "execution_count": 15,
   "metadata": {},
   "outputs": [],
   "source": [
    "#auc is the area under the curve \n",
    "#we should select based on thresh hold value \n",
    "#we can select threshhold value based on our requirements \n",
    "#like howmuch true positive it depends on domain expert"
   ]
  },
  {
   "cell_type": "code",
   "execution_count": 16,
   "metadata": {},
   "outputs": [],
   "source": [
    "#implementation of performance metrics\n",
    "from sklearn import metrics \n"
   ]
  },
  {
   "cell_type": "code",
   "execution_count": 17,
   "metadata": {},
   "outputs": [],
   "source": [
    "C=\"Cat\"\n",
    "D=\"Dog\"\n",
    "F=\"Fox\""
   ]
  },
  {
   "cell_type": "code",
   "execution_count": 18,
   "metadata": {},
   "outputs": [],
   "source": [
    "#note \n",
    "#the prcision of the cat class is the number of correctly predicted cat out of all the predicted cat\n",
    "#recall for the cat is the  number of correctly [redicted cat photos out of number of actual cat\n"
   ]
  },
  {
   "cell_type": "code",
   "execution_count": 21,
   "metadata": {},
   "outputs": [
    {
     "name": "stdout",
     "output_type": "stream",
     "text": [
      "[[4 1 1]\n",
      " [3 6 0]\n",
      " [6 2 2]]\n",
      "              precision    recall  f1-score   support\n",
      "\n",
      "         Cat      0.308     0.667     0.421         6\n",
      "         Dog      0.667     0.667     0.667         9\n",
      "         Fox      0.667     0.200     0.308        10\n",
      "\n",
      "    accuracy                          0.480        25\n",
      "   macro avg      0.547     0.511     0.465        25\n",
      "weighted avg      0.581     0.480     0.464        25\n",
      "\n"
     ]
    }
   ],
   "source": [
    "#true values \n",
    "y_true=[C,C,C,C,C,C, F,F,F,F,F,F,F,F,F,F, D,D,D,D,D,D,D,D,D]\n",
    "#predicted values\n",
    "y_pred=[C,C,C,C,D,F, C,C,C,C,C,C,D,D,F,F, C,C,C,D,D,D,D,D,D]\n",
    "#print the confusion matrix\n",
    "print(metrics.confusion_matrix(y_true,y_pred))\n",
    "\n",
    "#print the precision,recall,among the other metrics\n",
    "print(metrics.classification_report(y_true,y_pred,digits=3))\n"
   ]
  },
  {
   "cell_type": "code",
   "execution_count": null,
   "metadata": {},
   "outputs": [],
   "source": []
  }
 ],
 "metadata": {
  "kernelspec": {
   "display_name": "Python 3",
   "language": "python",
   "name": "python3"
  },
  "language_info": {
   "codemirror_mode": {
    "name": "ipython",
    "version": 3
   },
   "file_extension": ".py",
   "mimetype": "text/x-python",
   "name": "python",
   "nbconvert_exporter": "python",
   "pygments_lexer": "ipython3",
   "version": "3.7.6"
  }
 },
 "nbformat": 4,
 "nbformat_minor": 4
}
