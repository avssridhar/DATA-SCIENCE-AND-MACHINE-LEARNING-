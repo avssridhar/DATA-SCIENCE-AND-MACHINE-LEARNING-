{
 "cells": [
  {
   "cell_type": "code",
   "execution_count": 1,
   "metadata": {},
   "outputs": [],
   "source": [
    "#logistic regression \n",
    "#used for binary classification,multiclass classification \n",
    "#this is a classifictation algorithm but called regression\n",
    "#here also we will create best fit line so it is called regression\n",
    "#just drawing a line of seperaton that is the meaning \n",
    "#if we use linear regression some points will get wrongly classifies \n",
    "#when we have lot of points or outliers then we will get wrong best fit lien"
   ]
  },
  {
   "cell_type": "code",
   "execution_count": 2,
   "metadata": {},
   "outputs": [],
   "source": [
    "#binary classification\n",
    "#logistic regression applied when two are linearly seperable\n",
    "#best fit line should linearly seperate the classifcation points\n",
    "#here best fit line is not calculated using linear regression\n",
    "#assumptions \n",
    "#positive points-+1\n",
    "#negative points--1\n",
    "#y=wTx\n",
    "#costfunction=sigma(1 to n)yi wT xi should be maximum\n",
    "#update wi till you get maximum cost function\n",
    "#cost function is optimizer\n",
    "#line which maximum cost functions is the best fit line\n"
   ]
  },
  {
   "cell_type": "code",
   "execution_count": 3,
   "metadata": {},
   "outputs": [],
   "source": [
    "#to prevent the effect of outliers we introduce sigmoid function\n",
    "#check effect of outliers in the video itself\n",
    "#y=sigma(1ton)sigmoid(yi*wTxi)\n",
    "#sigmoid=1/1+e^x\n",
    "#sigmoid fucntion will transformall the thing between 0 and 1\n",
    "#this will help balance the effect of outliers"
   ]
  },
  {
   "cell_type": "code",
   "execution_count": null,
   "metadata": {},
   "outputs": [],
   "source": [
    "#one vs rest or one vs all"
   ]
  }
 ],
 "metadata": {
  "kernelspec": {
   "display_name": "Python 3",
   "language": "python",
   "name": "python3"
  },
  "language_info": {
   "codemirror_mode": {
    "name": "ipython",
    "version": 3
   },
   "file_extension": ".py",
   "mimetype": "text/x-python",
   "name": "python",
   "nbconvert_exporter": "python",
   "pygments_lexer": "ipython3",
   "version": "3.7.6"
  }
 },
 "nbformat": 4,
 "nbformat_minor": 4
}
