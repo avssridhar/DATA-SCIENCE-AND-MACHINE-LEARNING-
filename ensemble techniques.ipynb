{
 "cells": [
  {
   "cell_type": "code",
   "execution_count": 5,
   "metadata": {},
   "outputs": [],
   "source": [
    "# we have two techiques bagging and boosting \n",
    "#ensembkle means we are combining multiple models\n",
    "#bagging:random forest\n",
    "#boosting:ada boost,gradient boosting,xgboost"
   ]
  },
  {
   "cell_type": "code",
   "execution_count": 6,
   "metadata": {},
   "outputs": [],
   "source": [
    "#bagging \n",
    "#also called as bootstrap aggregation \n",
    "#take a dataset\n",
    "#many base models you take \n",
    "#we will resample and send different samples to each model \n",
    "#this is called row sampling with replacement \n",
    "#we will apply voting classifier \n",
    "#that is majority opinion will be considered\n",
    "#it is called bootstrap because we are sending samples to all models(row sample with replacement)\n",
    "#aggragation means that we are combiing at the end \n"
   ]
  },
  {
   "cell_type": "code",
   "execution_count": null,
   "metadata": {},
   "outputs": [],
   "source": []
  }
 ],
 "metadata": {
  "kernelspec": {
   "display_name": "Python 3",
   "language": "python",
   "name": "python3"
  },
  "language_info": {
   "codemirror_mode": {
    "name": "ipython",
    "version": 3
   },
   "file_extension": ".py",
   "mimetype": "text/x-python",
   "name": "python",
   "nbconvert_exporter": "python",
   "pygments_lexer": "ipython3",
   "version": "3.7.6"
  }
 },
 "nbformat": 4,
 "nbformat_minor": 4
}
